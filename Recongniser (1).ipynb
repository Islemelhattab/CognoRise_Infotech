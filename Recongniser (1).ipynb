{
  "cells": [
    {
      "cell_type": "code",
      "execution_count": 1,
      "metadata": {
        "colab": {
          "base_uri": "https://localhost:8080/"
        },
        "id": "raKE1Vj3AjYd",
        "outputId": "71cf425a-dabd-4609-a0ca-d85b7d3f47eb"
      },
      "outputs": [
        {
          "output_type": "stream",
          "name": "stdout",
          "text": [
            "Mounted at /content/Drive\n"
          ]
        }
      ],
      "source": [
        "from google.colab import drive\n",
        "\n",
        "# Use drive.mount with authentication\n",
        "drive.mount('/content/Drive', force_remount=True)"
      ]
    },
    {
      "cell_type": "code",
      "execution_count": 2,
      "metadata": {
        "colab": {
          "base_uri": "https://localhost:8080/"
        },
        "id": "5sLXJGiprw_7",
        "outputId": "c206df8f-69fb-432a-8e5c-b78853dd7b29"
      },
      "outputs": [
        {
          "output_type": "stream",
          "name": "stdout",
          "text": [
            "/content/Drive/MyDrive/Colab Notebooks\n"
          ]
        }
      ],
      "source": [
        "cd /content/Drive/MyDrive/Colab Notebooks"
      ]
    },
    {
      "cell_type": "code",
      "execution_count": 3,
      "metadata": {
        "colab": {
          "base_uri": "https://localhost:8080/",
          "height": 35
        },
        "id": "d5LvuVHjOSFw",
        "outputId": "3f739c8d-82a8-4463-be59-6e3d773f3c24"
      },
      "outputs": [
        {
          "output_type": "execute_result",
          "data": {
            "text/plain": [
              "'/content/Drive/MyDrive/Colab Notebooks'"
            ],
            "application/vnd.google.colaboratory.intrinsic+json": {
              "type": "string"
            }
          },
          "metadata": {},
          "execution_count": 3
        }
      ],
      "source": [
        "pwd"
      ]
    },
    {
      "cell_type": "code",
      "execution_count": null,
      "metadata": {
        "id": "NjDjmdtjta_L"
      },
      "outputs": [],
      "source": [
        "from google.colab import files"
      ]
    },
    {
      "cell_type": "code",
      "execution_count": null,
      "metadata": {
        "colab": {
          "base_uri": "https://localhost:8080/",
          "height": 90
        },
        "id": "LP6k1B8itcry",
        "outputId": "afcfcadb-916b-4274-cfcc-f88c09dfd2cc"
      },
      "outputs": [
        {
          "data": {
            "text/html": [
              "\n",
              "     <input type=\"file\" id=\"files-497beca2-5da0-487c-a9cb-d3e77efb319d\" name=\"files[]\" multiple disabled\n",
              "        style=\"border:none\" />\n",
              "     <output id=\"result-497beca2-5da0-487c-a9cb-d3e77efb319d\">\n",
              "      Upload widget is only available when the cell has been executed in the\n",
              "      current browser session. Please rerun this cell to enable.\n",
              "      </output>\n",
              "      <script>// Copyright 2017 Google LLC\n",
              "//\n",
              "// Licensed under the Apache License, Version 2.0 (the \"License\");\n",
              "// you may not use this file except in compliance with the License.\n",
              "// You may obtain a copy of the License at\n",
              "//\n",
              "//      http://www.apache.org/licenses/LICENSE-2.0\n",
              "//\n",
              "// Unless required by applicable law or agreed to in writing, software\n",
              "// distributed under the License is distributed on an \"AS IS\" BASIS,\n",
              "// WITHOUT WARRANTIES OR CONDITIONS OF ANY KIND, either express or implied.\n",
              "// See the License for the specific language governing permissions and\n",
              "// limitations under the License.\n",
              "\n",
              "/**\n",
              " * @fileoverview Helpers for google.colab Python module.\n",
              " */\n",
              "(function(scope) {\n",
              "function span(text, styleAttributes = {}) {\n",
              "  const element = document.createElement('span');\n",
              "  element.textContent = text;\n",
              "  for (const key of Object.keys(styleAttributes)) {\n",
              "    element.style[key] = styleAttributes[key];\n",
              "  }\n",
              "  return element;\n",
              "}\n",
              "\n",
              "// Max number of bytes which will be uploaded at a time.\n",
              "const MAX_PAYLOAD_SIZE = 100 * 1024;\n",
              "\n",
              "function _uploadFiles(inputId, outputId) {\n",
              "  const steps = uploadFilesStep(inputId, outputId);\n",
              "  const outputElement = document.getElementById(outputId);\n",
              "  // Cache steps on the outputElement to make it available for the next call\n",
              "  // to uploadFilesContinue from Python.\n",
              "  outputElement.steps = steps;\n",
              "\n",
              "  return _uploadFilesContinue(outputId);\n",
              "}\n",
              "\n",
              "// This is roughly an async generator (not supported in the browser yet),\n",
              "// where there are multiple asynchronous steps and the Python side is going\n",
              "// to poll for completion of each step.\n",
              "// This uses a Promise to block the python side on completion of each step,\n",
              "// then passes the result of the previous step as the input to the next step.\n",
              "function _uploadFilesContinue(outputId) {\n",
              "  const outputElement = document.getElementById(outputId);\n",
              "  const steps = outputElement.steps;\n",
              "\n",
              "  const next = steps.next(outputElement.lastPromiseValue);\n",
              "  return Promise.resolve(next.value.promise).then((value) => {\n",
              "    // Cache the last promise value to make it available to the next\n",
              "    // step of the generator.\n",
              "    outputElement.lastPromiseValue = value;\n",
              "    return next.value.response;\n",
              "  });\n",
              "}\n",
              "\n",
              "/**\n",
              " * Generator function which is called between each async step of the upload\n",
              " * process.\n",
              " * @param {string} inputId Element ID of the input file picker element.\n",
              " * @param {string} outputId Element ID of the output display.\n",
              " * @return {!Iterable<!Object>} Iterable of next steps.\n",
              " */\n",
              "function* uploadFilesStep(inputId, outputId) {\n",
              "  const inputElement = document.getElementById(inputId);\n",
              "  inputElement.disabled = false;\n",
              "\n",
              "  const outputElement = document.getElementById(outputId);\n",
              "  outputElement.innerHTML = '';\n",
              "\n",
              "  const pickedPromise = new Promise((resolve) => {\n",
              "    inputElement.addEventListener('change', (e) => {\n",
              "      resolve(e.target.files);\n",
              "    });\n",
              "  });\n",
              "\n",
              "  const cancel = document.createElement('button');\n",
              "  inputElement.parentElement.appendChild(cancel);\n",
              "  cancel.textContent = 'Cancel upload';\n",
              "  const cancelPromise = new Promise((resolve) => {\n",
              "    cancel.onclick = () => {\n",
              "      resolve(null);\n",
              "    };\n",
              "  });\n",
              "\n",
              "  // Wait for the user to pick the files.\n",
              "  const files = yield {\n",
              "    promise: Promise.race([pickedPromise, cancelPromise]),\n",
              "    response: {\n",
              "      action: 'starting',\n",
              "    }\n",
              "  };\n",
              "\n",
              "  cancel.remove();\n",
              "\n",
              "  // Disable the input element since further picks are not allowed.\n",
              "  inputElement.disabled = true;\n",
              "\n",
              "  if (!files) {\n",
              "    return {\n",
              "      response: {\n",
              "        action: 'complete',\n",
              "      }\n",
              "    };\n",
              "  }\n",
              "\n",
              "  for (const file of files) {\n",
              "    const li = document.createElement('li');\n",
              "    li.append(span(file.name, {fontWeight: 'bold'}));\n",
              "    li.append(span(\n",
              "        `(${file.type || 'n/a'}) - ${file.size} bytes, ` +\n",
              "        `last modified: ${\n",
              "            file.lastModifiedDate ? file.lastModifiedDate.toLocaleDateString() :\n",
              "                                    'n/a'} - `));\n",
              "    const percent = span('0% done');\n",
              "    li.appendChild(percent);\n",
              "\n",
              "    outputElement.appendChild(li);\n",
              "\n",
              "    const fileDataPromise = new Promise((resolve) => {\n",
              "      const reader = new FileReader();\n",
              "      reader.onload = (e) => {\n",
              "        resolve(e.target.result);\n",
              "      };\n",
              "      reader.readAsArrayBuffer(file);\n",
              "    });\n",
              "    // Wait for the data to be ready.\n",
              "    let fileData = yield {\n",
              "      promise: fileDataPromise,\n",
              "      response: {\n",
              "        action: 'continue',\n",
              "      }\n",
              "    };\n",
              "\n",
              "    // Use a chunked sending to avoid message size limits. See b/62115660.\n",
              "    let position = 0;\n",
              "    do {\n",
              "      const length = Math.min(fileData.byteLength - position, MAX_PAYLOAD_SIZE);\n",
              "      const chunk = new Uint8Array(fileData, position, length);\n",
              "      position += length;\n",
              "\n",
              "      const base64 = btoa(String.fromCharCode.apply(null, chunk));\n",
              "      yield {\n",
              "        response: {\n",
              "          action: 'append',\n",
              "          file: file.name,\n",
              "          data: base64,\n",
              "        },\n",
              "      };\n",
              "\n",
              "      let percentDone = fileData.byteLength === 0 ?\n",
              "          100 :\n",
              "          Math.round((position / fileData.byteLength) * 100);\n",
              "      percent.textContent = `${percentDone}% done`;\n",
              "\n",
              "    } while (position < fileData.byteLength);\n",
              "  }\n",
              "\n",
              "  // All done.\n",
              "  yield {\n",
              "    response: {\n",
              "      action: 'complete',\n",
              "    }\n",
              "  };\n",
              "}\n",
              "\n",
              "scope.google = scope.google || {};\n",
              "scope.google.colab = scope.google.colab || {};\n",
              "scope.google.colab._files = {\n",
              "  _uploadFiles,\n",
              "  _uploadFilesContinue,\n",
              "};\n",
              "})(self);\n",
              "</script> "
            ],
            "text/plain": [
              "<IPython.core.display.HTML object>"
            ]
          },
          "metadata": {},
          "output_type": "display_data"
        },
        {
          "name": "stdout",
          "output_type": "stream",
          "text": [
            "Saving kaggle.json to kaggle.json\n"
          ]
        },
        {
          "data": {
            "text/plain": [
              "{'kaggle.json': b'{\"username\":\"islemhattab\",\"key\":\"583f9e97eaca3ba3d177e7d93dea4b20\"}'}"
            ]
          },
          "execution_count": 17,
          "metadata": {},
          "output_type": "execute_result"
        }
      ],
      "source": [
        "files.upload()"
      ]
    },
    {
      "cell_type": "code",
      "execution_count": null,
      "metadata": {
        "colab": {
          "base_uri": "https://localhost:8080/"
        },
        "id": "hUf24vBStp5K",
        "outputId": "f27408c9-fd45-4f10-81b5-64bfaa7b4b29"
      },
      "outputs": [
        {
          "name": "stdout",
          "output_type": "stream",
          "text": [
            "Requirement already satisfied: kaggle in /usr/local/lib/python3.10/dist-packages (1.6.14)\n",
            "Requirement already satisfied: six>=1.10 in /usr/local/lib/python3.10/dist-packages (from kaggle) (1.16.0)\n",
            "Requirement already satisfied: certifi>=2023.7.22 in /usr/local/lib/python3.10/dist-packages (from kaggle) (2024.6.2)\n",
            "Requirement already satisfied: python-dateutil in /usr/local/lib/python3.10/dist-packages (from kaggle) (2.8.2)\n",
            "Requirement already satisfied: requests in /usr/local/lib/python3.10/dist-packages (from kaggle) (2.31.0)\n",
            "Requirement already satisfied: tqdm in /usr/local/lib/python3.10/dist-packages (from kaggle) (4.66.4)\n",
            "Requirement already satisfied: python-slugify in /usr/local/lib/python3.10/dist-packages (from kaggle) (8.0.4)\n",
            "Requirement already satisfied: urllib3 in /usr/local/lib/python3.10/dist-packages (from kaggle) (2.0.7)\n",
            "Requirement already satisfied: bleach in /usr/local/lib/python3.10/dist-packages (from kaggle) (6.1.0)\n",
            "Requirement already satisfied: webencodings in /usr/local/lib/python3.10/dist-packages (from bleach->kaggle) (0.5.1)\n",
            "Requirement already satisfied: text-unidecode>=1.3 in /usr/local/lib/python3.10/dist-packages (from python-slugify->kaggle) (1.3)\n",
            "Requirement already satisfied: charset-normalizer<4,>=2 in /usr/local/lib/python3.10/dist-packages (from requests->kaggle) (3.3.2)\n",
            "Requirement already satisfied: idna<4,>=2.5 in /usr/local/lib/python3.10/dist-packages (from requests->kaggle) (3.7)\n"
          ]
        }
      ],
      "source": [
        "!pip install kaggle"
      ]
    },
    {
      "cell_type": "code",
      "execution_count": null,
      "metadata": {
        "id": "4ZRfi_cBtu4K"
      },
      "outputs": [],
      "source": [
        "!mkdir -p ~/.kaggle"
      ]
    },
    {
      "cell_type": "code",
      "execution_count": null,
      "metadata": {
        "id": "tn2zCmm1t1h1"
      },
      "outputs": [],
      "source": [
        "!cp kaggle.json ~/.kaggle/"
      ]
    },
    {
      "cell_type": "code",
      "execution_count": null,
      "metadata": {
        "id": "Y2biQ4COuCmH"
      },
      "outputs": [],
      "source": [
        "! chmod 600 ~/.kaggle/kaggle.json"
      ]
    },
    {
      "cell_type": "code",
      "execution_count": null,
      "metadata": {
        "colab": {
          "base_uri": "https://localhost:8080/"
        },
        "id": "v1LsIPWYvfha",
        "outputId": "a15d5b9b-a0ae-4e72-9030-65ede8a8a304"
      },
      "outputs": [
        {
          "name": "stdout",
          "output_type": "stream",
          "text": [
            "Dataset URL: https://www.kaggle.com/datasets/coderb/handwritten-math-evaluation\n",
            "License(s): copyright-authors\n",
            "Downloading handwritten-math-evaluation.zip to /content/Drive/MyDrive/Colab Notebooks\n",
            "  0% 0.00/1.01M [00:00<?, ?B/s]\n",
            "100% 1.01M/1.01M [00:00<00:00, 41.6MB/s]\n"
          ]
        }
      ],
      "source": [
        "!kaggle datasets download -d coderb/handwritten-math-evaluation"
      ]
    },
    {
      "cell_type": "code",
      "execution_count": null,
      "metadata": {
        "colab": {
          "base_uri": "https://localhost:8080/"
        },
        "id": "tQ6IZ75cvjsE",
        "outputId": "839a836a-9df7-4150-e003-376372498585"
      },
      "outputs": [
        {
          "name": "stdout",
          "output_type": "stream",
          "text": [
            "Archive:  handwritten-math-evaluation.zip\n",
            "  inflating: my_dataset/0/1.png      \n",
            "  inflating: my_dataset/0/10.png     \n",
            "  inflating: my_dataset/0/11.png     \n",
            "  inflating: my_dataset/0/12.png     \n",
            "  inflating: my_dataset/0/13.png     \n",
            "  inflating: my_dataset/0/14.png     \n",
            "  inflating: my_dataset/0/15.png     \n",
            "  inflating: my_dataset/0/16.png     \n",
            "  inflating: my_dataset/0/17.png     \n",
            "  inflating: my_dataset/0/18.png     \n",
            "  inflating: my_dataset/0/19.png     \n",
            "  inflating: my_dataset/0/2.png      \n",
            "  inflating: my_dataset/0/20.png     \n",
            "  inflating: my_dataset/0/21.png     \n",
            "  inflating: my_dataset/0/22.png     \n",
            "  inflating: my_dataset/0/23.png     \n",
            "  inflating: my_dataset/0/24.png     \n",
            "  inflating: my_dataset/0/25.png     \n",
            "  inflating: my_dataset/0/26.png     \n",
            "  inflating: my_dataset/0/27.png     \n",
            "  inflating: my_dataset/0/28.png     \n",
            "  inflating: my_dataset/0/29.png     \n",
            "  inflating: my_dataset/0/3.png      \n",
            "  inflating: my_dataset/0/30.png     \n",
            "  inflating: my_dataset/0/31.png     \n",
            "  inflating: my_dataset/0/32.png     \n",
            "  inflating: my_dataset/0/33.png     \n",
            "  inflating: my_dataset/0/34.png     \n",
            "  inflating: my_dataset/0/35.png     \n",
            "  inflating: my_dataset/0/36.png     \n",
            "  inflating: my_dataset/0/37.png     \n",
            "  inflating: my_dataset/0/38.png     \n",
            "  inflating: my_dataset/0/39.png     \n",
            "  inflating: my_dataset/0/4.png      \n",
            "  inflating: my_dataset/0/40.png     \n",
            "  inflating: my_dataset/0/41.png     \n",
            "  inflating: my_dataset/0/42.png     \n",
            "  inflating: my_dataset/0/43.png     \n",
            "  inflating: my_dataset/0/44.png     \n",
            "  inflating: my_dataset/0/45.png     \n",
            "  inflating: my_dataset/0/46.png     \n",
            "  inflating: my_dataset/0/47.png     \n",
            "  inflating: my_dataset/0/48.png     \n",
            "  inflating: my_dataset/0/49.png     \n",
            "  inflating: my_dataset/0/5.png      \n",
            "  inflating: my_dataset/0/50.png     \n",
            "  inflating: my_dataset/0/6.png      \n",
            "  inflating: my_dataset/0/7.png      \n",
            "  inflating: my_dataset/0/8.png      \n",
            "  inflating: my_dataset/0/9.png      \n",
            "  inflating: my_dataset/1/1.png      \n",
            "  inflating: my_dataset/1/10.png     \n",
            "  inflating: my_dataset/1/11.png     \n",
            "  inflating: my_dataset/1/12.png     \n",
            "  inflating: my_dataset/1/13.png     \n",
            "  inflating: my_dataset/1/14.png     \n",
            "  inflating: my_dataset/1/15.png     \n",
            "  inflating: my_dataset/1/16.png     \n",
            "  inflating: my_dataset/1/17.png     \n",
            "  inflating: my_dataset/1/18.png     \n",
            "  inflating: my_dataset/1/19.png     \n",
            "  inflating: my_dataset/1/2.png      \n",
            "  inflating: my_dataset/1/20.png     \n",
            "  inflating: my_dataset/1/21.png     \n",
            "  inflating: my_dataset/1/22.png     \n",
            "  inflating: my_dataset/1/23.png     \n",
            "  inflating: my_dataset/1/24.png     \n",
            "  inflating: my_dataset/1/25.png     \n",
            "  inflating: my_dataset/1/26.png     \n",
            "  inflating: my_dataset/1/27.png     \n",
            "  inflating: my_dataset/1/28.png     \n",
            "  inflating: my_dataset/1/29.png     \n",
            "  inflating: my_dataset/1/3.png      \n",
            "  inflating: my_dataset/1/30.png     \n",
            "  inflating: my_dataset/1/31.png     \n",
            "  inflating: my_dataset/1/32.png     \n",
            "  inflating: my_dataset/1/33.png     \n",
            "  inflating: my_dataset/1/34.png     \n",
            "  inflating: my_dataset/1/35.png     \n",
            "  inflating: my_dataset/1/36.png     \n",
            "  inflating: my_dataset/1/37.png     \n",
            "  inflating: my_dataset/1/38.png     \n",
            "  inflating: my_dataset/1/39.png     \n",
            "  inflating: my_dataset/1/4.png      \n",
            "  inflating: my_dataset/1/40.png     \n",
            "  inflating: my_dataset/1/41.png     \n",
            "  inflating: my_dataset/1/42.png     \n",
            "  inflating: my_dataset/1/43.png     \n",
            "  inflating: my_dataset/1/44.png     \n",
            "  inflating: my_dataset/1/45.png     \n",
            "  inflating: my_dataset/1/46.png     \n",
            "  inflating: my_dataset/1/47.png     \n",
            "  inflating: my_dataset/1/48.png     \n",
            "  inflating: my_dataset/1/49.png     \n",
            "  inflating: my_dataset/1/5.png      \n",
            "  inflating: my_dataset/1/50.png     \n",
            "  inflating: my_dataset/1/6.png      \n",
            "  inflating: my_dataset/1/7.png      \n",
            "  inflating: my_dataset/1/8.png      \n",
            "  inflating: my_dataset/1/9.png      \n",
            "  inflating: my_dataset/10/1.png     \n",
            "  inflating: my_dataset/10/10.png    \n",
            "  inflating: my_dataset/10/11.png    \n",
            "  inflating: my_dataset/10/12.png    \n",
            "  inflating: my_dataset/10/13.png    \n",
            "  inflating: my_dataset/10/14.png    \n",
            "  inflating: my_dataset/10/15.png    \n",
            "  inflating: my_dataset/10/16.png    \n",
            "  inflating: my_dataset/10/17.png    \n",
            "  inflating: my_dataset/10/18.png    \n",
            "  inflating: my_dataset/10/19.png    \n",
            "  inflating: my_dataset/10/2.png     \n",
            "  inflating: my_dataset/10/20.png    \n",
            "  inflating: my_dataset/10/21.png    \n",
            "  inflating: my_dataset/10/22.png    \n",
            "  inflating: my_dataset/10/23.png    \n",
            "  inflating: my_dataset/10/24.png    \n",
            "  inflating: my_dataset/10/25.png    \n",
            "  inflating: my_dataset/10/26.png    \n",
            "  inflating: my_dataset/10/27.png    \n",
            "  inflating: my_dataset/10/28.png    \n",
            "  inflating: my_dataset/10/29.png    \n",
            "  inflating: my_dataset/10/3.png     \n",
            "  inflating: my_dataset/10/30.png    \n",
            "  inflating: my_dataset/10/31.png    \n",
            "  inflating: my_dataset/10/32.png    \n",
            "  inflating: my_dataset/10/33.png    \n",
            "  inflating: my_dataset/10/34.png    \n",
            "  inflating: my_dataset/10/35.png    \n",
            "  inflating: my_dataset/10/36.png    \n",
            "  inflating: my_dataset/10/37.png    \n",
            "  inflating: my_dataset/10/38.png    \n",
            "  inflating: my_dataset/10/39.png    \n",
            "  inflating: my_dataset/10/4.png     \n",
            "  inflating: my_dataset/10/40.png    \n",
            "  inflating: my_dataset/10/41.png    \n",
            "  inflating: my_dataset/10/42.png    \n",
            "  inflating: my_dataset/10/43.png    \n",
            "  inflating: my_dataset/10/44.png    \n",
            "  inflating: my_dataset/10/45.png    \n",
            "  inflating: my_dataset/10/46.png    \n",
            "  inflating: my_dataset/10/47.png    \n",
            "  inflating: my_dataset/10/48.png    \n",
            "  inflating: my_dataset/10/49.png    \n",
            "  inflating: my_dataset/10/5.png     \n",
            "  inflating: my_dataset/10/50.png    \n",
            "  inflating: my_dataset/10/6.png     \n",
            "  inflating: my_dataset/10/7.png     \n",
            "  inflating: my_dataset/10/8.png     \n",
            "  inflating: my_dataset/10/9.png     \n",
            "  inflating: my_dataset/11/1.png     \n",
            "  inflating: my_dataset/11/10.png    \n",
            "  inflating: my_dataset/11/11.png    \n",
            "  inflating: my_dataset/11/12.png    \n",
            "  inflating: my_dataset/11/13.png    \n",
            "  inflating: my_dataset/11/14.png    \n",
            "  inflating: my_dataset/11/15.png    \n",
            "  inflating: my_dataset/11/16.png    \n",
            "  inflating: my_dataset/11/17.png    \n",
            "  inflating: my_dataset/11/18.png    \n",
            "  inflating: my_dataset/11/19.png    \n",
            "  inflating: my_dataset/11/2.png     \n",
            "  inflating: my_dataset/11/20.png    \n",
            "  inflating: my_dataset/11/21.png    \n",
            "  inflating: my_dataset/11/22.png    \n",
            "  inflating: my_dataset/11/23.png    \n",
            "  inflating: my_dataset/11/24.png    \n",
            "  inflating: my_dataset/11/25.png    \n",
            "  inflating: my_dataset/11/26.png    \n",
            "  inflating: my_dataset/11/27.png    \n",
            "  inflating: my_dataset/11/28.png    \n",
            "  inflating: my_dataset/11/29.png    \n",
            "  inflating: my_dataset/11/3.png     \n",
            "  inflating: my_dataset/11/30.png    \n",
            "  inflating: my_dataset/11/31.png    \n",
            "  inflating: my_dataset/11/32.png    \n",
            "  inflating: my_dataset/11/33.png    \n",
            "  inflating: my_dataset/11/34.png    \n",
            "  inflating: my_dataset/11/35.png    \n",
            "  inflating: my_dataset/11/36.png    \n",
            "  inflating: my_dataset/11/37.png    \n",
            "  inflating: my_dataset/11/38.png    \n",
            "  inflating: my_dataset/11/39.png    \n",
            "  inflating: my_dataset/11/4.png     \n",
            "  inflating: my_dataset/11/40.png    \n",
            "  inflating: my_dataset/11/41.png    \n",
            "  inflating: my_dataset/11/42.png    \n",
            "  inflating: my_dataset/11/43.png    \n",
            "  inflating: my_dataset/11/44.png    \n",
            "  inflating: my_dataset/11/45.png    \n",
            "  inflating: my_dataset/11/46.png    \n",
            "  inflating: my_dataset/11/47.png    \n",
            "  inflating: my_dataset/11/48.png    \n",
            "  inflating: my_dataset/11/49.png    \n",
            "  inflating: my_dataset/11/5.png     \n",
            "  inflating: my_dataset/11/50.png    \n",
            "  inflating: my_dataset/11/6.png     \n",
            "  inflating: my_dataset/11/7.png     \n",
            "  inflating: my_dataset/11/8.png     \n",
            "  inflating: my_dataset/11/9.png     \n",
            "  inflating: my_dataset/2/1.png      \n",
            "  inflating: my_dataset/2/10.png     \n",
            "  inflating: my_dataset/2/11.png     \n",
            "  inflating: my_dataset/2/12.png     \n",
            "  inflating: my_dataset/2/13.png     \n",
            "  inflating: my_dataset/2/14.png     \n",
            "  inflating: my_dataset/2/15.png     \n",
            "  inflating: my_dataset/2/16.png     \n",
            "  inflating: my_dataset/2/17.png     \n",
            "  inflating: my_dataset/2/18.png     \n",
            "  inflating: my_dataset/2/19.png     \n",
            "  inflating: my_dataset/2/2.png      \n",
            "  inflating: my_dataset/2/20.png     \n",
            "  inflating: my_dataset/2/21.png     \n",
            "  inflating: my_dataset/2/22.png     \n",
            "  inflating: my_dataset/2/23.png     \n",
            "  inflating: my_dataset/2/24.png     \n",
            "  inflating: my_dataset/2/25.png     \n",
            "  inflating: my_dataset/2/26.png     \n",
            "  inflating: my_dataset/2/27.png     \n",
            "  inflating: my_dataset/2/28.png     \n",
            "  inflating: my_dataset/2/29.png     \n",
            "  inflating: my_dataset/2/3.png      \n",
            "  inflating: my_dataset/2/30.png     \n",
            "  inflating: my_dataset/2/31.png     \n",
            "  inflating: my_dataset/2/32.png     \n",
            "  inflating: my_dataset/2/33.png     \n",
            "  inflating: my_dataset/2/34.png     \n",
            "  inflating: my_dataset/2/35.png     \n",
            "  inflating: my_dataset/2/36.png     \n",
            "  inflating: my_dataset/2/37.png     \n",
            "  inflating: my_dataset/2/38.png     \n",
            "  inflating: my_dataset/2/39.png     \n",
            "  inflating: my_dataset/2/4.png      \n",
            "  inflating: my_dataset/2/40.png     \n",
            "  inflating: my_dataset/2/41.png     \n",
            "  inflating: my_dataset/2/42.png     \n",
            "  inflating: my_dataset/2/43.png     \n",
            "  inflating: my_dataset/2/44.png     \n",
            "  inflating: my_dataset/2/45.png     \n",
            "  inflating: my_dataset/2/46.png     \n",
            "  inflating: my_dataset/2/47.png     \n",
            "  inflating: my_dataset/2/48.png     \n",
            "  inflating: my_dataset/2/49.png     \n",
            "  inflating: my_dataset/2/5.png      \n",
            "  inflating: my_dataset/2/50.png     \n",
            "  inflating: my_dataset/2/6.png      \n",
            "  inflating: my_dataset/2/7.png      \n",
            "  inflating: my_dataset/2/8.png      \n",
            "  inflating: my_dataset/2/9.png      \n",
            "  inflating: my_dataset/3/1.png      \n",
            "  inflating: my_dataset/3/10.png     \n",
            "  inflating: my_dataset/3/11.png     \n",
            "  inflating: my_dataset/3/12.png     \n",
            "  inflating: my_dataset/3/13.png     \n",
            "  inflating: my_dataset/3/14.png     \n",
            "  inflating: my_dataset/3/15.png     \n",
            "  inflating: my_dataset/3/16.png     \n",
            "  inflating: my_dataset/3/17.png     \n",
            "  inflating: my_dataset/3/18.png     \n",
            "  inflating: my_dataset/3/19.png     \n",
            "  inflating: my_dataset/3/2.png      \n",
            "  inflating: my_dataset/3/20.png     \n",
            "  inflating: my_dataset/3/21.png     \n",
            "  inflating: my_dataset/3/22.png     \n",
            "  inflating: my_dataset/3/23.png     \n",
            "  inflating: my_dataset/3/24.png     \n",
            "  inflating: my_dataset/3/25.png     \n",
            "  inflating: my_dataset/3/26.png     \n",
            "  inflating: my_dataset/3/27.png     \n",
            "  inflating: my_dataset/3/28.png     \n",
            "  inflating: my_dataset/3/29.png     \n",
            "  inflating: my_dataset/3/3.png      \n",
            "  inflating: my_dataset/3/30.png     \n",
            "  inflating: my_dataset/3/31.png     \n",
            "  inflating: my_dataset/3/32.png     \n",
            "  inflating: my_dataset/3/33.png     \n",
            "  inflating: my_dataset/3/34.png     \n",
            "  inflating: my_dataset/3/35.png     \n",
            "  inflating: my_dataset/3/36.png     \n",
            "  inflating: my_dataset/3/37.png     \n",
            "  inflating: my_dataset/3/38.png     \n",
            "  inflating: my_dataset/3/39.png     \n",
            "  inflating: my_dataset/3/4.png      \n",
            "  inflating: my_dataset/3/40.png     \n",
            "  inflating: my_dataset/3/41.png     \n",
            "  inflating: my_dataset/3/42.png     \n",
            "  inflating: my_dataset/3/43.png     \n",
            "  inflating: my_dataset/3/44.png     \n",
            "  inflating: my_dataset/3/45.png     \n",
            "  inflating: my_dataset/3/46.png     \n",
            "  inflating: my_dataset/3/47.png     \n",
            "  inflating: my_dataset/3/48.png     \n",
            "  inflating: my_dataset/3/49.png     \n",
            "  inflating: my_dataset/3/5.png      \n",
            "  inflating: my_dataset/3/50.png     \n",
            "  inflating: my_dataset/3/6.png      \n",
            "  inflating: my_dataset/3/7.png      \n",
            "  inflating: my_dataset/3/8.png      \n",
            "  inflating: my_dataset/3/9.png      \n",
            "  inflating: my_dataset/4/1.png      \n",
            "  inflating: my_dataset/4/10.png     \n",
            "  inflating: my_dataset/4/11.png     \n",
            "  inflating: my_dataset/4/12.png     \n",
            "  inflating: my_dataset/4/13.png     \n",
            "  inflating: my_dataset/4/14.png     \n",
            "  inflating: my_dataset/4/15.png     \n",
            "  inflating: my_dataset/4/16.png     \n",
            "  inflating: my_dataset/4/17.png     \n",
            "  inflating: my_dataset/4/18.png     \n",
            "  inflating: my_dataset/4/19.png     \n",
            "  inflating: my_dataset/4/2.png      \n",
            "  inflating: my_dataset/4/20.png     \n",
            "  inflating: my_dataset/4/21.png     \n",
            "  inflating: my_dataset/4/22.png     \n",
            "  inflating: my_dataset/4/23.png     \n",
            "  inflating: my_dataset/4/24.png     \n",
            "  inflating: my_dataset/4/25.png     \n",
            "  inflating: my_dataset/4/26.png     \n",
            "  inflating: my_dataset/4/27.png     \n",
            "  inflating: my_dataset/4/28.png     \n",
            "  inflating: my_dataset/4/29.png     \n",
            "  inflating: my_dataset/4/3.png      \n",
            "  inflating: my_dataset/4/30.png     \n",
            "  inflating: my_dataset/4/31.png     \n",
            "  inflating: my_dataset/4/32.png     \n",
            "  inflating: my_dataset/4/33.png     \n",
            "  inflating: my_dataset/4/34.png     \n",
            "  inflating: my_dataset/4/35.png     \n",
            "  inflating: my_dataset/4/36.png     \n",
            "  inflating: my_dataset/4/37.png     \n",
            "  inflating: my_dataset/4/38.png     \n",
            "  inflating: my_dataset/4/39.png     \n",
            "  inflating: my_dataset/4/4.png      \n",
            "  inflating: my_dataset/4/40.png     \n",
            "  inflating: my_dataset/4/41.png     \n",
            "  inflating: my_dataset/4/42.png     \n",
            "  inflating: my_dataset/4/43.png     \n",
            "  inflating: my_dataset/4/44.png     \n",
            "  inflating: my_dataset/4/45.png     \n",
            "  inflating: my_dataset/4/46.png     \n",
            "  inflating: my_dataset/4/47.png     \n",
            "  inflating: my_dataset/4/48.png     \n",
            "  inflating: my_dataset/4/49.png     \n",
            "  inflating: my_dataset/4/5.png      \n",
            "  inflating: my_dataset/4/50.png     \n",
            "  inflating: my_dataset/4/6.png      \n",
            "  inflating: my_dataset/4/7.png      \n",
            "  inflating: my_dataset/4/8.png      \n",
            "  inflating: my_dataset/4/9.png      \n",
            "  inflating: my_dataset/5/1.png      \n",
            "  inflating: my_dataset/5/10.png     \n",
            "  inflating: my_dataset/5/11.png     \n",
            "  inflating: my_dataset/5/12.png     \n",
            "  inflating: my_dataset/5/13.png     \n",
            "  inflating: my_dataset/5/14.png     \n",
            "  inflating: my_dataset/5/15.png     \n",
            "  inflating: my_dataset/5/16.png     \n",
            "  inflating: my_dataset/5/17.png     \n",
            "  inflating: my_dataset/5/18.png     \n",
            "  inflating: my_dataset/5/19.png     \n",
            "  inflating: my_dataset/5/2.png      \n",
            "  inflating: my_dataset/5/20.png     \n",
            "  inflating: my_dataset/5/21.png     \n",
            "  inflating: my_dataset/5/22.png     \n",
            "  inflating: my_dataset/5/23.png     \n",
            "  inflating: my_dataset/5/24.png     \n",
            "  inflating: my_dataset/5/25.png     \n",
            "  inflating: my_dataset/5/26.png     \n",
            "  inflating: my_dataset/5/27.png     \n",
            "  inflating: my_dataset/5/28.png     \n",
            "  inflating: my_dataset/5/29.png     \n",
            "  inflating: my_dataset/5/3.png      \n",
            "  inflating: my_dataset/5/30.png     \n",
            "  inflating: my_dataset/5/31.png     \n",
            "  inflating: my_dataset/5/32.png     \n",
            "  inflating: my_dataset/5/33.png     \n",
            "  inflating: my_dataset/5/34.png     \n",
            "  inflating: my_dataset/5/35.png     \n",
            "  inflating: my_dataset/5/36.png     \n",
            "  inflating: my_dataset/5/37.png     \n",
            "  inflating: my_dataset/5/38.png     \n",
            "  inflating: my_dataset/5/39.png     \n",
            "  inflating: my_dataset/5/4.png      \n",
            "  inflating: my_dataset/5/40.png     \n",
            "  inflating: my_dataset/5/41.png     \n",
            "  inflating: my_dataset/5/42.png     \n",
            "  inflating: my_dataset/5/43.png     \n",
            "  inflating: my_dataset/5/44.png     \n",
            "  inflating: my_dataset/5/45.png     \n",
            "  inflating: my_dataset/5/46.png     \n",
            "  inflating: my_dataset/5/47.png     \n",
            "  inflating: my_dataset/5/48.png     \n",
            "  inflating: my_dataset/5/49.png     \n",
            "  inflating: my_dataset/5/5.png      \n",
            "  inflating: my_dataset/5/50.png     \n",
            "  inflating: my_dataset/5/6.png      \n",
            "  inflating: my_dataset/5/7.png      \n",
            "  inflating: my_dataset/5/8.png      \n",
            "  inflating: my_dataset/5/9.png      \n",
            "  inflating: my_dataset/6/1.png      \n",
            "  inflating: my_dataset/6/10.png     \n",
            "  inflating: my_dataset/6/11.png     \n",
            "  inflating: my_dataset/6/12.png     \n",
            "  inflating: my_dataset/6/13.png     \n",
            "  inflating: my_dataset/6/14.png     \n",
            "  inflating: my_dataset/6/15.png     \n",
            "  inflating: my_dataset/6/16.png     \n",
            "  inflating: my_dataset/6/17.png     \n",
            "  inflating: my_dataset/6/18.png     \n",
            "  inflating: my_dataset/6/19.png     \n",
            "  inflating: my_dataset/6/2.png      \n",
            "  inflating: my_dataset/6/20.png     \n",
            "  inflating: my_dataset/6/21.png     \n",
            "  inflating: my_dataset/6/22.png     \n",
            "  inflating: my_dataset/6/23.png     \n",
            "  inflating: my_dataset/6/24.png     \n",
            "  inflating: my_dataset/6/25.png     \n",
            "  inflating: my_dataset/6/26.png     \n",
            "  inflating: my_dataset/6/27.png     \n",
            "  inflating: my_dataset/6/28.png     \n",
            "  inflating: my_dataset/6/29.png     \n",
            "  inflating: my_dataset/6/3.png      \n",
            "  inflating: my_dataset/6/30.png     \n",
            "  inflating: my_dataset/6/31.png     \n",
            "  inflating: my_dataset/6/32.png     \n",
            "  inflating: my_dataset/6/33.png     \n",
            "  inflating: my_dataset/6/34.png     \n",
            "  inflating: my_dataset/6/35.png     \n",
            "  inflating: my_dataset/6/36.png     \n",
            "  inflating: my_dataset/6/37.png     \n",
            "  inflating: my_dataset/6/38.png     \n",
            "  inflating: my_dataset/6/39.png     \n",
            "  inflating: my_dataset/6/4.png      \n",
            "  inflating: my_dataset/6/40.png     \n",
            "  inflating: my_dataset/6/41.png     \n",
            "  inflating: my_dataset/6/42.png     \n",
            "  inflating: my_dataset/6/43.png     \n",
            "  inflating: my_dataset/6/44.png     \n",
            "  inflating: my_dataset/6/45.png     \n",
            "  inflating: my_dataset/6/46.png     \n",
            "  inflating: my_dataset/6/47.png     \n",
            "  inflating: my_dataset/6/48.png     \n",
            "  inflating: my_dataset/6/49.png     \n",
            "  inflating: my_dataset/6/5.png      \n",
            "  inflating: my_dataset/6/50.png     \n",
            "  inflating: my_dataset/6/6.png      \n",
            "  inflating: my_dataset/6/7.png      \n",
            "  inflating: my_dataset/6/8.png      \n",
            "  inflating: my_dataset/6/9.png      \n",
            "  inflating: my_dataset/7/1.png      \n",
            "  inflating: my_dataset/7/10.png     \n",
            "  inflating: my_dataset/7/11.png     \n",
            "  inflating: my_dataset/7/12.png     \n",
            "  inflating: my_dataset/7/13.png     \n",
            "  inflating: my_dataset/7/14.png     \n",
            "  inflating: my_dataset/7/15.png     \n",
            "  inflating: my_dataset/7/16.png     \n",
            "  inflating: my_dataset/7/17.png     \n",
            "  inflating: my_dataset/7/18.png     \n",
            "  inflating: my_dataset/7/19.png     \n",
            "  inflating: my_dataset/7/2.png      \n",
            "  inflating: my_dataset/7/20.png     \n",
            "  inflating: my_dataset/7/21.png     \n",
            "  inflating: my_dataset/7/22.png     \n",
            "  inflating: my_dataset/7/23.png     \n",
            "  inflating: my_dataset/7/24.png     \n",
            "  inflating: my_dataset/7/25.png     \n",
            "  inflating: my_dataset/7/26.png     \n",
            "  inflating: my_dataset/7/27.png     \n",
            "  inflating: my_dataset/7/28.png     \n",
            "  inflating: my_dataset/7/29.png     \n",
            "  inflating: my_dataset/7/3.png      \n",
            "  inflating: my_dataset/7/30.png     \n",
            "  inflating: my_dataset/7/31.png     \n",
            "  inflating: my_dataset/7/32.png     \n",
            "  inflating: my_dataset/7/33.png     \n",
            "  inflating: my_dataset/7/34.png     \n",
            "  inflating: my_dataset/7/35.png     \n",
            "  inflating: my_dataset/7/36.png     \n",
            "  inflating: my_dataset/7/37.png     \n",
            "  inflating: my_dataset/7/38.png     \n",
            "  inflating: my_dataset/7/39.png     \n",
            "  inflating: my_dataset/7/4.png      \n",
            "  inflating: my_dataset/7/40.png     \n",
            "  inflating: my_dataset/7/41.png     \n",
            "  inflating: my_dataset/7/42.png     \n",
            "  inflating: my_dataset/7/43.png     \n",
            "  inflating: my_dataset/7/44.png     \n",
            "  inflating: my_dataset/7/45.png     \n",
            "  inflating: my_dataset/7/46.png     \n",
            "  inflating: my_dataset/7/47.png     \n",
            "  inflating: my_dataset/7/48.png     \n",
            "  inflating: my_dataset/7/49.png     \n",
            "  inflating: my_dataset/7/5.png      \n",
            "  inflating: my_dataset/7/50.png     \n",
            "  inflating: my_dataset/7/6.png      \n",
            "  inflating: my_dataset/7/7.png      \n",
            "  inflating: my_dataset/7/8.png      \n",
            "  inflating: my_dataset/7/9.png      \n",
            "  inflating: my_dataset/8/1.png      \n",
            "  inflating: my_dataset/8/10.png     \n",
            "  inflating: my_dataset/8/11.png     \n",
            "  inflating: my_dataset/8/12.png     \n",
            "  inflating: my_dataset/8/13.png     \n",
            "  inflating: my_dataset/8/14.png     \n",
            "  inflating: my_dataset/8/15.png     \n",
            "  inflating: my_dataset/8/16.png     \n",
            "  inflating: my_dataset/8/17.png     \n",
            "  inflating: my_dataset/8/18.png     \n",
            "  inflating: my_dataset/8/19.png     \n",
            "  inflating: my_dataset/8/2.png      \n",
            "  inflating: my_dataset/8/20.png     \n",
            "  inflating: my_dataset/8/21.png     \n",
            "  inflating: my_dataset/8/22.png     \n",
            "  inflating: my_dataset/8/23.png     \n",
            "  inflating: my_dataset/8/24.png     \n",
            "  inflating: my_dataset/8/25.png     \n",
            "  inflating: my_dataset/8/26.png     \n",
            "  inflating: my_dataset/8/27.png     \n",
            "  inflating: my_dataset/8/28.png     \n",
            "  inflating: my_dataset/8/29.png     \n",
            "  inflating: my_dataset/8/3.png      \n",
            "  inflating: my_dataset/8/30.png     \n",
            "  inflating: my_dataset/8/31.png     \n",
            "  inflating: my_dataset/8/32.png     \n",
            "  inflating: my_dataset/8/33.png     \n",
            "  inflating: my_dataset/8/34.png     \n",
            "  inflating: my_dataset/8/35.png     \n",
            "  inflating: my_dataset/8/36.png     \n",
            "  inflating: my_dataset/8/37.png     \n",
            "  inflating: my_dataset/8/38.png     \n",
            "  inflating: my_dataset/8/39.png     \n",
            "  inflating: my_dataset/8/4.png      \n",
            "  inflating: my_dataset/8/40.png     \n",
            "  inflating: my_dataset/8/41.png     \n",
            "  inflating: my_dataset/8/42.png     \n",
            "  inflating: my_dataset/8/43.png     \n",
            "  inflating: my_dataset/8/44.png     \n",
            "  inflating: my_dataset/8/45.png     \n",
            "  inflating: my_dataset/8/46.png     \n",
            "  inflating: my_dataset/8/47.png     \n",
            "  inflating: my_dataset/8/48.png     \n",
            "  inflating: my_dataset/8/49.png     \n",
            "  inflating: my_dataset/8/5.png      \n",
            "  inflating: my_dataset/8/50.png     \n",
            "  inflating: my_dataset/8/6.png      \n",
            "  inflating: my_dataset/8/7.png      \n",
            "  inflating: my_dataset/8/8.png      \n",
            "  inflating: my_dataset/8/9.png      \n",
            "  inflating: my_dataset/9/1.png      \n",
            "  inflating: my_dataset/9/10.png     \n",
            "  inflating: my_dataset/9/11.png     \n",
            "  inflating: my_dataset/9/12.png     \n",
            "  inflating: my_dataset/9/13.png     \n",
            "  inflating: my_dataset/9/14.png     \n",
            "  inflating: my_dataset/9/15.png     \n",
            "  inflating: my_dataset/9/16.png     \n",
            "  inflating: my_dataset/9/17.png     \n",
            "  inflating: my_dataset/9/18.png     \n",
            "  inflating: my_dataset/9/19.png     \n",
            "  inflating: my_dataset/9/2.png      \n",
            "  inflating: my_dataset/9/20.png     \n",
            "  inflating: my_dataset/9/21.png     \n",
            "  inflating: my_dataset/9/22.png     \n",
            "  inflating: my_dataset/9/23.png     \n",
            "  inflating: my_dataset/9/24.png     \n",
            "  inflating: my_dataset/9/25.png     \n",
            "  inflating: my_dataset/9/26.png     \n",
            "  inflating: my_dataset/9/27.png     \n",
            "  inflating: my_dataset/9/28.png     \n",
            "  inflating: my_dataset/9/29.png     \n",
            "  inflating: my_dataset/9/3.png      \n",
            "  inflating: my_dataset/9/30.png     \n",
            "  inflating: my_dataset/9/31.png     \n",
            "  inflating: my_dataset/9/32.png     \n",
            "  inflating: my_dataset/9/33.png     \n",
            "  inflating: my_dataset/9/34.png     \n",
            "  inflating: my_dataset/9/35.png     \n",
            "  inflating: my_dataset/9/36.png     \n",
            "  inflating: my_dataset/9/37.png     \n",
            "  inflating: my_dataset/9/38.png     \n",
            "  inflating: my_dataset/9/39.png     \n",
            "  inflating: my_dataset/9/4.png      \n",
            "  inflating: my_dataset/9/40.png     \n",
            "  inflating: my_dataset/9/41.png     \n",
            "  inflating: my_dataset/9/42.png     \n",
            "  inflating: my_dataset/9/43.png     \n",
            "  inflating: my_dataset/9/44.png     \n",
            "  inflating: my_dataset/9/45.png     \n",
            "  inflating: my_dataset/9/46.png     \n",
            "  inflating: my_dataset/9/47.png     \n",
            "  inflating: my_dataset/9/48.png     \n",
            "  inflating: my_dataset/9/49.png     \n",
            "  inflating: my_dataset/9/5.png      \n",
            "  inflating: my_dataset/9/50.png     \n",
            "  inflating: my_dataset/9/6.png      \n",
            "  inflating: my_dataset/9/7.png      \n",
            "  inflating: my_dataset/9/8.png      \n",
            "  inflating: my_dataset/9/9.png      \n"
          ]
        }
      ],
      "source": [
        "! unzip handwritten-math-evaluation.zip"
      ]
    },
    {
      "cell_type": "code",
      "execution_count": 18,
      "metadata": {
        "id": "SbjSUnhbzAgU"
      },
      "outputs": [],
      "source": [
        "import os\n",
        "import random\n",
        "import shutil"
      ]
    },
    {
      "cell_type": "code",
      "execution_count": null,
      "metadata": {
        "colab": {
          "base_uri": "https://localhost:8080/"
        },
        "id": "ljTS10kQyn5z",
        "outputId": "e43e2453-4abc-48ec-c5d3-dabaac866e44"
      },
      "outputs": [
        {
          "name": "stdout",
          "output_type": "stream",
          "text": [
            "['normal_26.png', 'normal_24.png', 'normal_20.png', 'normal_12.png', 'normal_05.png', 'normal_46.png', 'normal_27.png', 'normal_10.png', 'normal_30.png', 'normal_17.png', 'normal_32.png', 'normal_22.png', 'normal_13.png', 'normal_04.png', 'normal_40.png', 'normal_39.png', 'normal_11.png', 'normal_25.png', 'normal_36.png', 'normal_01.png', 'normal_44.png', 'normal_19.png', 'normal_34.png', 'normal_49.png', 'normal_42.png', 'normal_31.png', 'normal_29.png', 'normal_21.png', 'normal_23.png', 'normal_43.png', 'normal_47.png', 'normal_37.png', 'normal_33.png', 'normal_45.png', 'normal_14.png', 'normal_50.png', 'normal_48.png', 'normal_03.png', 'normal_28.png', 'normal_38.png', 'normal_06.png', 'normal_35.png', 'normal_07.png', 'normal_09.png', 'normal_15.png', 'normal_16.png', 'normal_18.png', 'normal_02.png', 'normal_08.png', 'normal_41.png']\n"
          ]
        }
      ],
      "source": [
        "#split\n",
        "\n",
        "data_path = \"/content/Drive/MyDrive/Colab Notebooks/my_dataset/0\"\n",
        "\n",
        "# path to destination folders\n",
        "train_folder = os.path.join(\"DataSet/\", 'train/0')\n",
        "val_folder = os.path.join(\"DataSet/\", 'val/0')\n",
        "test_folder = os.path.join(\"DataSet/\", 'test/0')\n",
        "\n",
        "# Define a list of image extensions\n",
        "image_extensions = ['.png']\n",
        "\n",
        "# Create a list of image filenames in 'data_path'\n",
        "imgs_list = [filename for filename in os.listdir(data_path) if os.path.splitext(filename)[-1] in image_extensions]\n",
        "\n",
        "# Sets the random seed\n",
        "random.seed(42)\n",
        "\n",
        "# Shuffle the list of image filenames\n",
        "random.shuffle(imgs_list)\n",
        "print(imgs_list)\n",
        "\n",
        "# determine the number of images for each set\n",
        "train_size = int(len(imgs_list) * 0.7)\n",
        "val_size = int(len(imgs_list) * 0.10)\n",
        "test_size = int(len(imgs_list) * 0.20)\n",
        "\n",
        "# Create destination folders if they don't exist\n",
        "for folder_path in [train_folder, val_folder, test_folder]:\n",
        "    if not os.path.exists(folder_path):\n",
        "        os.makedirs(folder_path)\n",
        "\n",
        "# Copy image files to destination folders\n",
        "for i, f in enumerate(imgs_list):\n",
        "    if i < train_size:\n",
        "        dest_folder = train_folder\n",
        "    elif i < train_size + val_size:\n",
        "        dest_folder = val_folder\n",
        "    else:\n",
        "        dest_folder = test_folder\n",
        "    #shutil.copy(os.path.join(data_path, f), os.path.join(dest_folder, f))\n",
        "    source = os.path.join(data_path, f)\n",
        "    destination = os.path.join(dest_folder, f)\n",
        "    shutil.copy(source, destination)"
      ]
    },
    {
      "cell_type": "code",
      "execution_count": null,
      "metadata": {
        "colab": {
          "base_uri": "https://localhost:8080/"
        },
        "id": "6PQnScVjzLKB",
        "outputId": "b4fdecb3-43f2-4b41-ffea-6d2b3db30df9"
      },
      "outputs": [
        {
          "name": "stdout",
          "output_type": "stream",
          "text": [
            "['32.png', '30.png', '27.png', '2.png', '13.png', '50.png', '33.png', '18.png', '36.png', '24.png', '38.png', '29.png', '20.png', '12.png', '45.png', '44.png', '19.png', '31.png', '41.png', '1.png', '49.png', '26.png', '4.png', '8.png', '47.png', '37.png', '35.png', '28.png', '3.png', '48.png', '6.png', '42.png', '39.png', '5.png', '21.png', '9.png', '7.png', '11.png', '34.png', '43.png', '14.png', '40.png', '15.png', '17.png', '22.png', '23.png', '25.png', '10.png', '16.png', '46.png']\n"
          ]
        }
      ],
      "source": [
        "#split\n",
        "\n",
        "data_path = \"/content/Drive/MyDrive/Colab Notebooks/my_dataset/1\"\n",
        "# path to destination folders\n",
        "train_folder = os.path.join(\"DataSet/\", 'train/1')\n",
        "val_folder = os.path.join(\"DataSet/\", 'val/1')\n",
        "test_folder = os.path.join(\"DataSet/\", 'test/1')\n",
        "\n",
        "# Define a list of image extensions\n",
        "image_extensions = ['.png']\n",
        "\n",
        "# Create a list of image filenames in 'data_path'\n",
        "imgs_list = [filename for filename in os.listdir(data_path) if os.path.splitext(filename)[-1] in image_extensions]\n",
        "\n",
        "# Sets the random seed\n",
        "random.seed(42)\n",
        "\n",
        "# Shuffle the list of image filenames\n",
        "random.shuffle(imgs_list)\n",
        "print(imgs_list)\n",
        "\n",
        "# determine the number of images for each set\n",
        "train_size = int(len(imgs_list) * 0.7)\n",
        "val_size = int(len(imgs_list) * 0.10)\n",
        "test_size = int(len(imgs_list) * 0.20)\n",
        "\n",
        "# Create destination folders if they don't exist\n",
        "for folder_path in [train_folder, val_folder, test_folder]:\n",
        "    if not os.path.exists(folder_path):\n",
        "        os.makedirs(folder_path)\n",
        "\n",
        "# Copy image files to destination folders\n",
        "for i, f in enumerate(imgs_list):\n",
        "    if i < train_size:\n",
        "        dest_folder = train_folder\n",
        "    elif i < train_size + val_size:\n",
        "        dest_folder = val_folder\n",
        "    else:\n",
        "        dest_folder = test_folder\n",
        "    #shutil.copy(os.path.join(data_path, f), os.path.join(dest_folder, f))\n",
        "    source = os.path.join(data_path, f)\n",
        "    destination = os.path.join(dest_folder, f)\n",
        "    shutil.copy(source, destination)"
      ]
    },
    {
      "cell_type": "code",
      "execution_count": null,
      "metadata": {
        "colab": {
          "base_uri": "https://localhost:8080/"
        },
        "id": "SpgjIHKqzZUL",
        "outputId": "cd50d6e2-14bd-4faf-8444-8e8d2b521ad9"
      },
      "outputs": [
        {
          "name": "stdout",
          "output_type": "stream",
          "text": [
            "['32.png', '30.png', '27.png', '2.png', '13.png', '50.png', '33.png', '18.png', '36.png', '24.png', '38.png', '29.png', '20.png', '12.png', '45.png', '44.png', '19.png', '31.png', '41.png', '1.png', '49.png', '26.png', '4.png', '8.png', '47.png', '37.png', '35.png', '28.png', '3.png', '48.png', '6.png', '42.png', '39.png', '5.png', '21.png', '9.png', '7.png', '11.png', '34.png', '43.png', '14.png', '40.png', '15.png', '17.png', '22.png', '23.png', '25.png', '10.png', '16.png', '46.png']\n"
          ]
        }
      ],
      "source": [
        "#split\n",
        "\n",
        "data_path = \"/content/Drive/MyDrive/Colab Notebooks/my_dataset/2\"\n",
        "# path to destination folders\n",
        "train_folder = os.path.join(\"DataSet/\", 'train/2')\n",
        "val_folder = os.path.join(\"DataSet/\", 'val/2')\n",
        "test_folder = os.path.join(\"DataSet/\", 'test/2')\n",
        "\n",
        "# Define a list of image extensions\n",
        "image_extensions = ['.png']\n",
        "\n",
        "# Create a list of image filenames in 'data_path'\n",
        "imgs_list = [filename for filename in os.listdir(data_path) if os.path.splitext(filename)[-1] in image_extensions]\n",
        "\n",
        "# Sets the random seed\n",
        "random.seed(42)\n",
        "\n",
        "# Shuffle the list of image filenames\n",
        "random.shuffle(imgs_list)\n",
        "print(imgs_list)\n",
        "\n",
        "# determine the number of images for each set\n",
        "train_size = int(len(imgs_list) * 0.7)\n",
        "val_size = int(len(imgs_list) * 0.10)\n",
        "test_size = int(len(imgs_list) * 0.20)\n",
        "\n",
        "# Create destination folders if they don't exist\n",
        "for folder_path in [train_folder, val_folder, test_folder]:\n",
        "    if not os.path.exists(folder_path):\n",
        "        os.makedirs(folder_path)\n",
        "\n",
        "# Copy image files to destination folders\n",
        "for i, f in enumerate(imgs_list):\n",
        "    if i < train_size:\n",
        "        dest_folder = train_folder\n",
        "    elif i < train_size + val_size:\n",
        "        dest_folder = val_folder\n",
        "    else:\n",
        "        dest_folder = test_folder\n",
        "    #shutil.copy(os.path.join(data_path, f), os.path.join(dest_folder, f))\n",
        "    source = os.path.join(data_path, f)\n",
        "    destination = os.path.join(dest_folder, f)\n",
        "    shutil.copy(source, destination)"
      ]
    },
    {
      "cell_type": "code",
      "execution_count": null,
      "metadata": {
        "colab": {
          "base_uri": "https://localhost:8080/"
        },
        "id": "issS23tpzd6B",
        "outputId": "c5ca98d4-a81a-4767-90ba-ca949003871f"
      },
      "outputs": [
        {
          "name": "stdout",
          "output_type": "stream",
          "text": [
            "['32.png', '30.png', '27.png', '2.png', '13.png', '50.png', '33.png', '18.png', '36.png', '24.png', '38.png', '29.png', '20.png', '12.png', '45.png', '44.png', '19.png', '31.png', '41.png', '1.png', '49.png', '26.png', '4.png', '8.png', '47.png', '37.png', '35.png', '28.png', '3.png', '48.png', '6.png', '42.png', '39.png', '5.png', '21.png', '9.png', '7.png', '11.png', '34.png', '43.png', '14.png', '40.png', '15.png', '17.png', '22.png', '23.png', '25.png', '10.png', '16.png', '46.png']\n"
          ]
        }
      ],
      "source": [
        "#split\n",
        "\n",
        "data_path = \"/content/Drive/MyDrive/Colab Notebooks/my_dataset/3\"\n",
        "# path to destination folders\n",
        "train_folder = os.path.join(\"DataSet/\", 'train/3')\n",
        "val_folder = os.path.join(\"DataSet/\", 'val/3')\n",
        "test_folder = os.path.join(\"DataSet/\", 'test/3')\n",
        "\n",
        "# Define a list of image extensions\n",
        "image_extensions = ['.png']\n",
        "\n",
        "# Create a list of image filenames in 'data_path'\n",
        "imgs_list = [filename for filename in os.listdir(data_path) if os.path.splitext(filename)[-1] in image_extensions]\n",
        "\n",
        "# Sets the random seed\n",
        "random.seed(42)\n",
        "\n",
        "# Shuffle the list of image filenames\n",
        "random.shuffle(imgs_list)\n",
        "print(imgs_list)\n",
        "\n",
        "# determine the number of images for each set\n",
        "train_size = int(len(imgs_list) * 0.7)\n",
        "val_size = int(len(imgs_list) * 0.10)\n",
        "test_size = int(len(imgs_list) * 0.20)\n",
        "\n",
        "# Create destination folders if they don't exist\n",
        "for folder_path in [train_folder, val_folder, test_folder]:\n",
        "    if not os.path.exists(folder_path):\n",
        "        os.makedirs(folder_path)\n",
        "\n",
        "# Copy image files to destination folders\n",
        "for i, f in enumerate(imgs_list):\n",
        "    if i < train_size:\n",
        "        dest_folder = train_folder\n",
        "    elif i < train_size + val_size:\n",
        "        dest_folder = val_folder\n",
        "    else:\n",
        "        dest_folder = test_folder\n",
        "    #shutil.copy(os.path.join(data_path, f), os.path.join(dest_folder, f))\n",
        "    source = os.path.join(data_path, f)\n",
        "    destination = os.path.join(dest_folder, f)\n",
        "    shutil.copy(source, destination)"
      ]
    },
    {
      "cell_type": "code",
      "execution_count": null,
      "metadata": {
        "colab": {
          "base_uri": "https://localhost:8080/"
        },
        "id": "6drbkloWzj-Q",
        "outputId": "38042144-f461-44b3-ffc3-30aee4a7e0e3"
      },
      "outputs": [
        {
          "name": "stdout",
          "output_type": "stream",
          "text": [
            "['32.png', '30.png', '27.png', '2.png', '13.png', '50.png', '33.png', '18.png', '36.png', '24.png', '38.png', '29.png', '20.png', '12.png', '45.png', '44.png', '19.png', '31.png', '41.png', '1.png', '49.png', '26.png', '4.png', '8.png', '47.png', '37.png', '35.png', '28.png', '3.png', '48.png', '6.png', '42.png', '39.png', '5.png', '21.png', '9.png', '7.png', '11.png', '34.png', '43.png', '14.png', '40.png', '15.png', '17.png', '22.png', '23.png', '25.png', '10.png', '16.png', '46.png']\n"
          ]
        }
      ],
      "source": [
        "#split\n",
        "\n",
        "data_path = \"/content/Drive/MyDrive/Colab Notebooks/my_dataset/4\"\n",
        "# path to destination folders\n",
        "train_folder = os.path.join(\"DataSet/\", 'train/4')\n",
        "val_folder = os.path.join(\"DataSet/\", 'val/4')\n",
        "test_folder = os.path.join(\"DataSet/\", 'test/4')\n",
        "\n",
        "# Define a list of image extensions\n",
        "image_extensions = ['.png']\n",
        "\n",
        "# Create a list of image filenames in 'data_path'\n",
        "imgs_list = [filename for filename in os.listdir(data_path) if os.path.splitext(filename)[-1] in image_extensions]\n",
        "\n",
        "# Sets the random seed\n",
        "random.seed(42)\n",
        "\n",
        "# Shuffle the list of image filenames\n",
        "random.shuffle(imgs_list)\n",
        "print(imgs_list)\n",
        "\n",
        "# determine the number of images for each set\n",
        "train_size = int(len(imgs_list) * 0.7)\n",
        "val_size = int(len(imgs_list) * 0.10)\n",
        "test_size = int(len(imgs_list) * 0.20)\n",
        "\n",
        "# Create destination folders if they don't exist\n",
        "for folder_path in [train_folder, val_folder, test_folder]:\n",
        "    if not os.path.exists(folder_path):\n",
        "        os.makedirs(folder_path)\n",
        "\n",
        "# Copy image files to destination folders\n",
        "for i, f in enumerate(imgs_list):\n",
        "    if i < train_size:\n",
        "        dest_folder = train_folder\n",
        "    elif i < train_size + val_size:\n",
        "        dest_folder = val_folder\n",
        "    else:\n",
        "        dest_folder = test_folder\n",
        "    #shutil.copy(os.path.join(data_path, f), os.path.join(dest_folder, f))\n",
        "    source = os.path.join(data_path, f)\n",
        "    destination = os.path.join(dest_folder, f)\n",
        "    shutil.copy(source, destination)"
      ]
    },
    {
      "cell_type": "code",
      "execution_count": null,
      "metadata": {
        "colab": {
          "base_uri": "https://localhost:8080/"
        },
        "id": "tyhZndmqzoe9",
        "outputId": "c1942752-dd50-4172-d8bd-25c81d7bab59"
      },
      "outputs": [
        {
          "name": "stdout",
          "output_type": "stream",
          "text": [
            "['32.png', '30.png', '27.png', '2.png', '13.png', '50.png', '33.png', '18.png', '36.png', '24.png', '38.png', '29.png', '20.png', '12.png', '45.png', '44.png', '19.png', '31.png', '41.png', '1.png', '49.png', '26.png', '4.png', '8.png', '47.png', '37.png', '35.png', '28.png', '3.png', '48.png', '6.png', '42.png', '39.png', '5.png', '21.png', '9.png', '7.png', '11.png', '34.png', '43.png', '14.png', '40.png', '15.png', '17.png', '22.png', '23.png', '25.png', '10.png', '16.png', '46.png']\n"
          ]
        }
      ],
      "source": [
        "#split\n",
        "\n",
        "data_path = \"/content/Drive/MyDrive/Colab Notebooks/my_dataset/5\"\n",
        "# path to destination folders\n",
        "train_folder = os.path.join(\"DataSet/\", 'train/5')\n",
        "val_folder = os.path.join(\"DataSet/\", 'val/5')\n",
        "test_folder = os.path.join(\"DataSet/\", 'test/5')\n",
        "\n",
        "# Define a list of image extensions\n",
        "image_extensions = ['.png']\n",
        "\n",
        "# Create a list of image filenames in 'data_path'\n",
        "imgs_list = [filename for filename in os.listdir(data_path) if os.path.splitext(filename)[-1] in image_extensions]\n",
        "\n",
        "# Sets the random seed\n",
        "random.seed(42)\n",
        "\n",
        "# Shuffle the list of image filenames\n",
        "random.shuffle(imgs_list)\n",
        "print(imgs_list)\n",
        "\n",
        "# determine the number of images for each set\n",
        "train_size = int(len(imgs_list) * 0.7)\n",
        "val_size = int(len(imgs_list) * 0.10)\n",
        "test_size = int(len(imgs_list) * 0.20)\n",
        "\n",
        "# Create destination folders if they don't exist\n",
        "for folder_path in [train_folder, val_folder, test_folder]:\n",
        "    if not os.path.exists(folder_path):\n",
        "        os.makedirs(folder_path)\n",
        "\n",
        "# Copy image files to destination folders\n",
        "for i, f in enumerate(imgs_list):\n",
        "    if i < train_size:\n",
        "        dest_folder = train_folder\n",
        "    elif i < train_size + val_size:\n",
        "        dest_folder = val_folder\n",
        "    else:\n",
        "        dest_folder = test_folder\n",
        "    #shutil.copy(os.path.join(data_path, f), os.path.join(dest_folder, f))\n",
        "    source = os.path.join(data_path, f)\n",
        "    destination = os.path.join(dest_folder, f)\n",
        "    shutil.copy(source, destination)"
      ]
    },
    {
      "cell_type": "code",
      "execution_count": null,
      "metadata": {
        "colab": {
          "base_uri": "https://localhost:8080/"
        },
        "id": "bFFkVW3Ezt6o",
        "outputId": "eb3b891d-ffc4-4140-f3a3-4d4e8116ac43"
      },
      "outputs": [
        {
          "name": "stdout",
          "output_type": "stream",
          "text": [
            "['32.png', '30.png', '27.png', '2.png', '13.png', '50.png', '33.png', '18.png', '36.png', '24.png', '38.png', '29.png', '20.png', '12.png', '45.png', '44.png', '19.png', '31.png', '41.png', '1.png', '49.png', '26.png', '4.png', '8.png', '47.png', '37.png', '35.png', '28.png', '3.png', '48.png', '6.png', '42.png', '39.png', '5.png', '21.png', '9.png', '7.png', '11.png', '34.png', '43.png', '14.png', '40.png', '15.png', '17.png', '22.png', '23.png', '25.png', '10.png', '16.png', '46.png']\n"
          ]
        }
      ],
      "source": [
        "#split\n",
        "\n",
        "data_path = \"/content/Drive/MyDrive/Colab Notebooks/my_dataset/6\"\n",
        "# path to destination folders\n",
        "train_folder = os.path.join(\"DataSet/\", 'train/6')\n",
        "val_folder = os.path.join(\"DataSet/\", 'val/6')\n",
        "test_folder = os.path.join(\"DataSet/\", 'test/6')\n",
        "\n",
        "# Define a list of image extensions\n",
        "image_extensions = ['.png']\n",
        "\n",
        "# Create a list of image filenames in 'data_path'\n",
        "imgs_list = [filename for filename in os.listdir(data_path) if os.path.splitext(filename)[-1] in image_extensions]\n",
        "\n",
        "# Sets the random seed\n",
        "random.seed(42)\n",
        "\n",
        "# Shuffle the list of image filenames\n",
        "random.shuffle(imgs_list)\n",
        "print(imgs_list)\n",
        "\n",
        "# determine the number of images for each set\n",
        "train_size = int(len(imgs_list) * 0.7)\n",
        "val_size = int(len(imgs_list) * 0.10)\n",
        "test_size = int(len(imgs_list) * 0.20)\n",
        "\n",
        "# Create destination folders if they don't exist\n",
        "for folder_path in [train_folder, val_folder, test_folder]:\n",
        "    if not os.path.exists(folder_path):\n",
        "        os.makedirs(folder_path)\n",
        "\n",
        "# Copy image files to destination folders\n",
        "for i, f in enumerate(imgs_list):\n",
        "    if i < train_size:\n",
        "        dest_folder = train_folder\n",
        "    elif i < train_size + val_size:\n",
        "        dest_folder = val_folder\n",
        "    else:\n",
        "        dest_folder = test_folder\n",
        "    #shutil.copy(os.path.join(data_path, f), os.path.join(dest_folder, f))\n",
        "    source = os.path.join(data_path, f)\n",
        "    destination = os.path.join(dest_folder, f)\n",
        "    shutil.copy(source, destination)"
      ]
    },
    {
      "cell_type": "code",
      "execution_count": null,
      "metadata": {
        "colab": {
          "base_uri": "https://localhost:8080/"
        },
        "id": "MOStGo6_zyct",
        "outputId": "f490a779-8b3a-4c37-8b68-dc21852fac10"
      },
      "outputs": [
        {
          "name": "stdout",
          "output_type": "stream",
          "text": [
            "['32.png', '30.png', '27.png', '2.png', '13.png', '50.png', '33.png', '18.png', '36.png', '24.png', '38.png', '29.png', '20.png', '12.png', '45.png', '44.png', '19.png', '31.png', '41.png', '1.png', '49.png', '26.png', '4.png', '8.png', '47.png', '37.png', '35.png', '28.png', '3.png', '48.png', '6.png', '42.png', '39.png', '5.png', '21.png', '9.png', '7.png', '11.png', '34.png', '43.png', '14.png', '40.png', '15.png', '17.png', '22.png', '23.png', '25.png', '10.png', '16.png', '46.png']\n"
          ]
        }
      ],
      "source": [
        "#split\n",
        "\n",
        "data_path = \"/content/Drive/MyDrive/Colab Notebooks/my_dataset/7\"\n",
        "# path to destination folders\n",
        "train_folder = os.path.join(\"DataSet/\", 'train/7')\n",
        "val_folder = os.path.join(\"DataSet/\", 'val/7')\n",
        "test_folder = os.path.join(\"DataSet/\", 'test/7')\n",
        "\n",
        "# Define a list of image extensions\n",
        "image_extensions = ['.png']\n",
        "\n",
        "# Create a list of image filenames in 'data_path'\n",
        "imgs_list = [filename for filename in os.listdir(data_path) if os.path.splitext(filename)[-1] in image_extensions]\n",
        "\n",
        "# Sets the random seed\n",
        "random.seed(42)\n",
        "\n",
        "# Shuffle the list of image filenames\n",
        "random.shuffle(imgs_list)\n",
        "print(imgs_list)\n",
        "\n",
        "# determine the number of images for each set\n",
        "train_size = int(len(imgs_list) * 0.7)\n",
        "val_size = int(len(imgs_list) * 0.10)\n",
        "test_size = int(len(imgs_list) * 0.20)\n",
        "\n",
        "# Create destination folders if they don't exist\n",
        "for folder_path in [train_folder, val_folder, test_folder]:\n",
        "    if not os.path.exists(folder_path):\n",
        "        os.makedirs(folder_path)\n",
        "\n",
        "# Copy image files to destination folders\n",
        "for i, f in enumerate(imgs_list):\n",
        "    if i < train_size:\n",
        "        dest_folder = train_folder\n",
        "    elif i < train_size + val_size:\n",
        "        dest_folder = val_folder\n",
        "    else:\n",
        "        dest_folder = test_folder\n",
        "    #shutil.copy(os.path.join(data_path, f), os.path.join(dest_folder, f))\n",
        "    source = os.path.join(data_path, f)\n",
        "    destination = os.path.join(dest_folder, f)\n",
        "    shutil.copy(source, destination)"
      ]
    },
    {
      "cell_type": "code",
      "execution_count": null,
      "metadata": {
        "colab": {
          "base_uri": "https://localhost:8080/"
        },
        "id": "edq9VM3Ez3hl",
        "outputId": "1eb142d9-d66d-47f5-9731-a6b75f9debd9"
      },
      "outputs": [
        {
          "name": "stdout",
          "output_type": "stream",
          "text": [
            "['32.png', '30.png', '27.png', '2.png', '13.png', '50.png', '33.png', '18.png', '36.png', '24.png', '38.png', '29.png', '20.png', '12.png', '45.png', '44.png', '19.png', '31.png', '41.png', '1.png', '49.png', '26.png', '4.png', '8.png', '47.png', '37.png', '35.png', '28.png', '3.png', '48.png', '6.png', '42.png', '39.png', '5.png', '21.png', '9.png', '7.png', '11.png', '34.png', '43.png', '14.png', '40.png', '15.png', '17.png', '22.png', '23.png', '25.png', '10.png', '16.png', '46.png']\n"
          ]
        }
      ],
      "source": [
        "#split\n",
        "\n",
        "data_path = \"/content/Drive/MyDrive/Colab Notebooks/my_dataset/8\"\n",
        "# path to destination folders\n",
        "train_folder = os.path.join(\"DataSet/\", 'train/8')\n",
        "val_folder = os.path.join(\"DataSet/\", 'val/8')\n",
        "test_folder = os.path.join(\"DataSet/\", 'test/8')\n",
        "\n",
        "# Define a list of image extensions\n",
        "image_extensions = ['.png']\n",
        "\n",
        "# Create a list of image filenames in 'data_path'\n",
        "imgs_list = [filename for filename in os.listdir(data_path) if os.path.splitext(filename)[-1] in image_extensions]\n",
        "\n",
        "# Sets the random seed\n",
        "random.seed(42)\n",
        "\n",
        "# Shuffle the list of image filenames\n",
        "random.shuffle(imgs_list)\n",
        "print(imgs_list)\n",
        "\n",
        "# determine the number of images for each set\n",
        "train_size = int(len(imgs_list) * 0.7)\n",
        "val_size = int(len(imgs_list) * 0.10)\n",
        "test_size = int(len(imgs_list) * 0.20)\n",
        "\n",
        "# Create destination folders if they don't exist\n",
        "for folder_path in [train_folder, val_folder, test_folder]:\n",
        "    if not os.path.exists(folder_path):\n",
        "        os.makedirs(folder_path)\n",
        "\n",
        "# Copy image files to destination folders\n",
        "for i, f in enumerate(imgs_list):\n",
        "    if i < train_size:\n",
        "        dest_folder = train_folder\n",
        "    elif i < train_size + val_size:\n",
        "        dest_folder = val_folder\n",
        "    else:\n",
        "        dest_folder = test_folder\n",
        "    #shutil.copy(os.path.join(data_path, f), os.path.join(dest_folder, f))\n",
        "    source = os.path.join(data_path, f)\n",
        "    destination = os.path.join(dest_folder, f)\n",
        "    shutil.copy(source, destination)"
      ]
    },
    {
      "cell_type": "code",
      "execution_count": null,
      "metadata": {
        "colab": {
          "base_uri": "https://localhost:8080/"
        },
        "id": "Je4HLQoH0F10",
        "outputId": "499aa1dc-8b66-4ec2-c8d1-a41c6c5f4773"
      },
      "outputs": [
        {
          "name": "stdout",
          "output_type": "stream",
          "text": [
            "['32.png', '30.png', '27.png', '2.png', '13.png', '50.png', '33.png', '18.png', '36.png', '24.png', '38.png', '29.png', '20.png', '12.png', '45.png', '44.png', '19.png', '31.png', '41.png', '1.png', '49.png', '26.png', '4.png', '8.png', '47.png', '37.png', '35.png', '28.png', '3.png', '48.png', '6.png', '42.png', '39.png', '5.png', '21.png', '9.png', '7.png', '11.png', '34.png', '43.png', '14.png', '40.png', '15.png', '17.png', '22.png', '23.png', '25.png', '10.png', '16.png', '46.png']\n"
          ]
        }
      ],
      "source": [
        "#split\n",
        "\n",
        "data_path = \"/content/Drive/MyDrive/Colab Notebooks/my_dataset/9\"\n",
        "# path to destination folders\n",
        "train_folder = os.path.join(\"DataSet/\", 'train/9')\n",
        "val_folder = os.path.join(\"DataSet/\", 'val/9')\n",
        "test_folder = os.path.join(\"DataSet/\", 'test/9')\n",
        "\n",
        "# Define a list of image extensions\n",
        "image_extensions = ['.png']\n",
        "\n",
        "# Create a list of image filenames in 'data_path'\n",
        "imgs_list = [filename for filename in os.listdir(data_path) if os.path.splitext(filename)[-1] in image_extensions]\n",
        "\n",
        "# Sets the random seed\n",
        "random.seed(42)\n",
        "\n",
        "# Shuffle the list of image filenames\n",
        "random.shuffle(imgs_list)\n",
        "print(imgs_list)\n",
        "\n",
        "# determine the number of images for each set\n",
        "train_size = int(len(imgs_list) * 0.7)\n",
        "val_size = int(len(imgs_list) * 0.10)\n",
        "test_size = int(len(imgs_list) * 0.20)\n",
        "\n",
        "# Create destination folders if they don't exist\n",
        "for folder_path in [train_folder, val_folder, test_folder]:\n",
        "    if not os.path.exists(folder_path):\n",
        "        os.makedirs(folder_path)\n",
        "\n",
        "# Copy image files to destination folders\n",
        "for i, f in enumerate(imgs_list):\n",
        "    if i < train_size:\n",
        "        dest_folder = train_folder\n",
        "    elif i < train_size + val_size:\n",
        "        dest_folder = val_folder\n",
        "    else:\n",
        "        dest_folder = test_folder\n",
        "    #shutil.copy(os.path.join(data_path, f), os.path.join(dest_folder, f))\n",
        "    source = os.path.join(data_path, f)\n",
        "    destination = os.path.join(dest_folder, f)\n",
        "    shutil.copy(source, destination)"
      ]
    },
    {
      "cell_type": "code",
      "execution_count": 5,
      "metadata": {
        "colab": {
          "base_uri": "https://localhost:8080/"
        },
        "id": "LzsnSV_80TVr",
        "outputId": "dc1fab34-5328-4b7e-9267-4291d2323a6c"
      },
      "outputs": [
        {
          "output_type": "stream",
          "name": "stdout",
          "text": [
            "Total Training 0:  35\n",
            "Total Training 1:  35\n",
            "Total Training 2:  35\n",
            "Total Training 3:  35\n",
            "Total Training 4:  35\n",
            "Total Training 5:  35\n",
            "Total Training 6:  35\n",
            "Total Training 7:  35\n",
            "Total Training 8:  35\n",
            "Total Training 9:  35\n",
            "Total Test 0:  10\n",
            "Total Test 1:  10\n",
            "Total Test 2:  10\n",
            "Total Test 3:  10\n",
            "Total Test 4:  10\n",
            "Total Test 5:  10\n",
            "Total Test 6:  10\n",
            "Total Test 7:  10\n",
            "Total Test 8:  10\n",
            "Total Test 9:  10\n",
            "Total Validation 0:  5\n",
            "Total Validation 1:  5\n",
            "Total Validation 2:  5\n",
            "Total Validation 3:  5\n",
            "Total Validation 4:  5\n",
            "Total Validation 5:  5\n",
            "Total Validation 6:  5\n",
            "Total Validation 7:  5\n",
            "Total Validation 8:  5\n",
            "Total Validation 9:  5\n"
          ]
        }
      ],
      "source": [
        "#Defining the directories\n",
        "train_0_dir=os.path.join('/content/Drive/MyDrive/Colab Notebooks/DataSet/train/0')\n",
        "train_1_dir=os.path.join('/content/Drive/MyDrive/Colab Notebooks/DataSet/train/1')\n",
        "train_2_dir=os.path.join('/content/Drive/MyDrive/Colab Notebooks/DataSet/train/1')\n",
        "train_3_dir=os.path.join('/content/Drive/MyDrive/Colab Notebooks/DataSet/train/1')\n",
        "train_4_dir=os.path.join('/content/Drive/MyDrive/Colab Notebooks/DataSet/train/1')\n",
        "train_5_dir=os.path.join('/content/Drive/MyDrive/Colab Notebooks/DataSet/train/1')\n",
        "train_6_dir=os.path.join('/content/Drive/MyDrive/Colab Notebooks/DataSet/train/1')\n",
        "train_7_dir=os.path.join('/content/Drive/MyDrive/Colab Notebooks/DataSet/train/1')\n",
        "train_8_dir=os.path.join('/content/Drive/MyDrive/Colab Notebooks/DataSet/train/1')\n",
        "train_9_dir=os.path.join('/content/Drive/MyDrive/Colab Notebooks/DataSet/train/1')\n",
        "\n",
        "\n",
        "\n",
        "test_0_dir=os.path.join('/content/Drive/MyDrive/Colab Notebooks/DataSet/test/0')\n",
        "test_1_dir=os.path.join('/content/Drive/MyDrive/Colab Notebooks/DataSet/test/1')\n",
        "test_2_dir=os.path.join('/content/Drive/MyDrive/Colab Notebooks/DataSet/test/2')\n",
        "test_3_dir=os.path.join('/content/Drive/MyDrive/Colab Notebooks/DataSet/test/3')\n",
        "test_4_dir=os.path.join('/content/Drive/MyDrive/Colab Notebooks/DataSet/test/4')\n",
        "test_5_dir=os.path.join('/content/Drive/MyDrive/Colab Notebooks/DataSet/test/5')\n",
        "test_6_dir=os.path.join('/content/Drive/MyDrive/Colab Notebooks/DataSet/test/6')\n",
        "test_7_dir=os.path.join('/content/Drive/MyDrive/Colab Notebooks/DataSet/test/7')\n",
        "test_8_dir=os.path.join('/content/Drive/MyDrive/Colab Notebooks/DataSet/test/8')\n",
        "test_9_dir=os.path.join('/content/Drive/MyDrive/Colab Notebooks/DataSet/test/9')\n",
        "\n",
        "\n",
        "val_0_dir=os.path.join('/content/Drive/MyDrive/Colab Notebooks/DataSet/val/0')\n",
        "val_1_dir=os.path.join('/content/Drive/MyDrive/Colab Notebooks/DataSet/val/1')\n",
        "val_2_dir=os.path.join('/content/Drive/MyDrive/Colab Notebooks/DataSet/val/2')\n",
        "val_3_dir=os.path.join('/content/Drive/MyDrive/Colab Notebooks/DataSet/val/3')\n",
        "val_4_dir=os.path.join('/content/Drive/MyDrive/Colab Notebooks/DataSet/val/4')\n",
        "val_5_dir=os.path.join('/content/Drive/MyDrive/Colab Notebooks/DataSet/val/5')\n",
        "val_6_dir=os.path.join('/content/Drive/MyDrive/Colab Notebooks/DataSet/val/6')\n",
        "val_7_dir=os.path.join('/content/Drive/MyDrive/Colab Notebooks/DataSet/val/7')\n",
        "val_8_dir=os.path.join('/content/Drive/MyDrive/Colab Notebooks/DataSet/val/8')\n",
        "val_9_dir=os.path.join('/content/Drive/MyDrive/Colab Notebooks/DataSet/val/9')\n",
        "\n",
        "#Printing the total numbers of data\n",
        "print('Total Training 0: ',len(os.listdir(train_0_dir)))\n",
        "print('Total Training 1: ',len(os.listdir(train_1_dir)))\n",
        "print('Total Training 2: ',len(os.listdir(train_2_dir)))\n",
        "print('Total Training 3: ',len(os.listdir(train_3_dir)))\n",
        "print('Total Training 4: ',len(os.listdir(train_4_dir)))\n",
        "print('Total Training 5: ',len(os.listdir(train_5_dir)))\n",
        "print('Total Training 6: ',len(os.listdir(train_6_dir)))\n",
        "print('Total Training 7: ',len(os.listdir(train_7_dir)))\n",
        "print('Total Training 8: ',len(os.listdir(train_8_dir)))\n",
        "print('Total Training 9: ',len(os.listdir(train_9_dir)))\n",
        "\n",
        "\n",
        "print('Total Test 0: ',len(os.listdir(test_0_dir)))\n",
        "print('Total Test 1: ',len(os.listdir(test_1_dir)))\n",
        "print('Total Test 2: ',len(os.listdir(test_2_dir)))\n",
        "print('Total Test 3: ',len(os.listdir(test_3_dir)))\n",
        "print('Total Test 4: ',len(os.listdir(test_4_dir)))\n",
        "print('Total Test 5: ',len(os.listdir(test_5_dir)))\n",
        "print('Total Test 6: ',len(os.listdir(test_6_dir)))\n",
        "print('Total Test 7: ',len(os.listdir(test_7_dir)))\n",
        "print('Total Test 8: ',len(os.listdir(test_8_dir)))\n",
        "print('Total Test 9: ',len(os.listdir(test_9_dir)))\n",
        "\n",
        "\n",
        "print('Total Validation 0: ',len(os.listdir(val_0_dir)))\n",
        "print('Total Validation 1: ',len(os.listdir(val_1_dir)))\n",
        "print('Total Validation 2: ',len(os.listdir(val_2_dir)))\n",
        "print('Total Validation 3: ',len(os.listdir(val_3_dir)))\n",
        "print('Total Validation 4: ',len(os.listdir(val_4_dir)))\n",
        "print('Total Validation 5: ',len(os.listdir(val_5_dir)))\n",
        "print('Total Validation 6: ',len(os.listdir(val_6_dir)))\n",
        "print('Total Validation 7: ',len(os.listdir(val_7_dir)))\n",
        "print('Total Validation 8: ',len(os.listdir(val_8_dir)))\n",
        "print('Total Validation 9: ',len(os.listdir(val_9_dir)))\n"
      ]
    },
    {
      "cell_type": "code",
      "execution_count": 6,
      "metadata": {
        "id": "x8xjgC5J3a2k"
      },
      "outputs": [],
      "source": [
        "import tensorflow as tf\n",
        "from tensorflow import keras"
      ]
    },
    {
      "cell_type": "code",
      "execution_count": 7,
      "metadata": {
        "colab": {
          "base_uri": "https://localhost:8080/"
        },
        "id": "Ty4RSXGu3EuG",
        "outputId": "c2a71b89-12fb-44ec-88b4-68601b664e8e"
      },
      "outputs": [
        {
          "output_type": "stream",
          "name": "stdout",
          "text": [
            "Found 350 images belonging to 10 classes.\n",
            "Found 100 images belonging to 10 classes.\n",
            "Found 50 images belonging to 10 classes.\n"
          ]
        }
      ],
      "source": [
        "from tensorflow.keras.preprocessing.image import ImageDataGenerator\n",
        "\n",
        "train_datagen = ImageDataGenerator(rescale = 1./255)\n",
        "\n",
        "\n",
        "train_generator=train_datagen.flow_from_directory(\n",
        "      '/content/Drive/MyDrive/Colab Notebooks/DataSet/train', # Fixed the typo in the path. Changed 'drive' to 'Drive'\n",
        "      target_size=(256, 256),\n",
        "      batch_size=32,\n",
        "      class_mode='categorical',\n",
        ")\n",
        "\n",
        "test_datagen=ImageDataGenerator(rescale=1./255)\n",
        "test_generator=train_datagen.flow_from_directory(\n",
        "      '/content/Drive/MyDrive/Colab Notebooks/DataSet/test', # Fixed the typo in the path. Changed 'drive' to 'Drive'\n",
        "      target_size=(256, 256),\n",
        "      batch_size=8,\n",
        "      class_mode='categorical',\n",
        "      shuffle=False\n",
        ")\n",
        "\n",
        "val_datagen=ImageDataGenerator(rescale=1./255)\n",
        "val_generator=train_datagen.flow_from_directory(\n",
        "      '/content/Drive/MyDrive/Colab Notebooks/DataSet/val', # Fixed the typo in the path. Changed 'drive' to 'Drive'\n",
        "      target_size=(256, 256),\n",
        "      class_mode='categorical',\n",
        "      batch_size=4,\n",
        "\n",
        ")"
      ]
    },
    {
      "cell_type": "code",
      "execution_count": 8,
      "metadata": {
        "id": "37WBNjsx3Ugf"
      },
      "outputs": [],
      "source": [
        "#Building the model\n",
        "import numpy as np\n",
        "model = tf.keras.models.Sequential([\n",
        "    tf.keras.layers.Conv2D(16, (3, 3), activation='relu', input_shape=(256, 256, 3)),\n",
        "    tf.keras.layers.Conv2D(16, (3, 3), activation='relu'),\n",
        "    tf.keras.layers.MaxPooling2D(2, 2),\n",
        "    tf.keras.layers.Conv2D(32, (3, 3), activation='relu'),\n",
        "    tf.keras.layers.Conv2D(32, (3, 3), activation='relu'),\n",
        "    tf.keras.layers.MaxPooling2D(2, 2),\n",
        "    tf.keras.layers.Conv2D(64, (3, 3), activation='relu'),\n",
        "    tf.keras.layers.Conv2D(64, (3, 3), activation='relu'),\n",
        "    tf.keras.layers.MaxPooling2D(2, 2),\n",
        "    tf.keras.layers.Conv2D(128, (3, 3), activation='relu'),\n",
        "    tf.keras.layers.Conv2D(128, (3, 3), activation='relu'),\n",
        "    tf.keras.layers.MaxPooling2D(2, 2),\n",
        "    tf.keras.layers.Dropout(0.4),\n",
        "\n",
        "    tf.keras.layers.Flatten(),\n",
        "    tf.keras.layers.Dense(512, activation='relu'),\n",
        "    tf.keras.layers.Dense(256, activation='relu'),\n",
        "    tf.keras.layers.Dense(128, activation='relu'),\n",
        "    tf.keras.layers.Dropout(0.2),\n",
        "    tf.keras.layers.Dense(10, activation='softmax')\n",
        "])\n"
      ]
    },
    {
      "cell_type": "code",
      "execution_count": 9,
      "metadata": {
        "colab": {
          "base_uri": "https://localhost:8080/"
        },
        "id": "00prRyb935DQ",
        "outputId": "c0fb358c-7be6-4f3e-fe0c-66bfa162c7e5"
      },
      "outputs": [
        {
          "output_type": "stream",
          "name": "stdout",
          "text": [
            "Epoch 1/15\n",
            "11/11 [==============================] - 119s 10s/step - loss: 2.3081 - accuracy: 0.0886 - val_loss: 2.3022 - val_accuracy: 0.1000\n",
            "Epoch 2/15\n",
            "11/11 [==============================] - 77s 7s/step - loss: 2.3025 - accuracy: 0.0971 - val_loss: 2.2928 - val_accuracy: 0.1000\n",
            "Epoch 3/15\n",
            "11/11 [==============================] - 78s 7s/step - loss: 2.2933 - accuracy: 0.1829 - val_loss: 2.2042 - val_accuracy: 0.4000\n",
            "Epoch 4/15\n",
            "11/11 [==============================] - 82s 8s/step - loss: 1.9505 - accuracy: 0.3400 - val_loss: 1.7117 - val_accuracy: 0.4400\n",
            "Epoch 5/15\n",
            "11/11 [==============================] - 81s 7s/step - loss: 1.4291 - accuracy: 0.4886 - val_loss: 1.0722 - val_accuracy: 0.6600\n",
            "Epoch 6/15\n",
            "11/11 [==============================] - 76s 7s/step - loss: 0.9663 - accuracy: 0.6743 - val_loss: 0.8315 - val_accuracy: 0.7800\n",
            "Epoch 7/15\n",
            "11/11 [==============================] - 77s 7s/step - loss: 0.7292 - accuracy: 0.7543 - val_loss: 0.7767 - val_accuracy: 0.8200\n",
            "Epoch 8/15\n",
            "11/11 [==============================] - 80s 7s/step - loss: 0.5794 - accuracy: 0.8057 - val_loss: 0.7502 - val_accuracy: 0.8200\n",
            "Epoch 9/15\n",
            "11/11 [==============================] - 77s 7s/step - loss: 0.3454 - accuracy: 0.8971 - val_loss: 0.5126 - val_accuracy: 0.9000\n",
            "Epoch 10/15\n",
            "11/11 [==============================] - 77s 7s/step - loss: 0.2035 - accuracy: 0.9400 - val_loss: 0.4588 - val_accuracy: 0.9200\n",
            "Epoch 11/15\n",
            "11/11 [==============================] - 75s 7s/step - loss: 0.1309 - accuracy: 0.9543 - val_loss: 0.5886 - val_accuracy: 0.8800\n",
            "Epoch 12/15\n",
            "11/11 [==============================] - 82s 7s/step - loss: 0.1802 - accuracy: 0.9371 - val_loss: 0.6401 - val_accuracy: 0.8800\n",
            "Epoch 13/15\n",
            "11/11 [==============================] - 79s 7s/step - loss: 0.1640 - accuracy: 0.9429 - val_loss: 0.4916 - val_accuracy: 0.9400\n",
            "Epoch 14/15\n",
            "11/11 [==============================] - 75s 7s/step - loss: 0.0693 - accuracy: 0.9743 - val_loss: 0.5576 - val_accuracy: 0.9400\n",
            "Epoch 15/15\n",
            "11/11 [==============================] - 75s 7s/step - loss: 0.0168 - accuracy: 0.9943 - val_loss: 0.9318 - val_accuracy: 0.9000\n"
          ]
        }
      ],
      "source": [
        "model.compile(optimizer='adam',loss='categorical_crossentropy',metrics=['accuracy'])\n",
        "history = model.fit(\n",
        "    train_generator,\n",
        "    steps_per_epoch=len(train_generator),\n",
        "    epochs=15,\n",
        "    validation_data=val_generator,\n",
        "    validation_steps=len(val_generator),\n",
        "    verbose=1\n",
        ")"
      ]
    },
    {
      "cell_type": "code",
      "execution_count": 10,
      "metadata": {
        "colab": {
          "base_uri": "https://localhost:8080/"
        },
        "id": "QaK87WNF4UYb",
        "outputId": "ddb31537-b1e1-417f-8b6f-1e33aed4d183"
      },
      "outputs": [
        {
          "output_type": "stream",
          "name": "stdout",
          "text": [
            "['loss', 'accuracy']\n"
          ]
        },
        {
          "output_type": "stream",
          "name": "stderr",
          "text": [
            "<ipython-input-10-9682c00b4455>:2: UserWarning: `Model.evaluate_generator` is deprecated and will be removed in a future version. Please use `Model.evaluate`, which supports generators.\n",
            "  print(model.evaluate_generator(test_generator,  verbose=1))\n"
          ]
        },
        {
          "output_type": "stream",
          "name": "stdout",
          "text": [
            "13/13 [==============================] - 24s 2s/step - loss: 0.5271 - accuracy: 0.9100\n",
            "[0.5270739793777466, 0.9100000262260437]\n"
          ]
        }
      ],
      "source": [
        "print(model.metrics_names)\n",
        "print(model.evaluate_generator(test_generator,  verbose=1))"
      ]
    },
    {
      "cell_type": "code",
      "execution_count": 11,
      "metadata": {
        "id": "FWhvL5VV4VPW",
        "colab": {
          "base_uri": "https://localhost:8080/"
        },
        "outputId": "325b1857-be25-49c0-f244-abc3356666d3"
      },
      "outputs": [
        {
          "output_type": "stream",
          "name": "stderr",
          "text": [
            "<ipython-input-11-d67acc91318d>:2: UserWarning: `Model.predict_generator` is deprecated and will be removed in a future version. Please use `Model.predict`, which supports generators.\n",
            "  y_test_probabilities = model.predict_generator(test_generator, verbose=1)\n"
          ]
        },
        {
          "output_type": "stream",
          "name": "stdout",
          "text": [
            "13/13 [==============================] - 7s 487ms/step\n"
          ]
        }
      ],
      "source": [
        "y_true = test_generator.classes\n",
        "y_test_probabilities = model.predict_generator(test_generator, verbose=1)\n",
        "y_pred = np.argmax(y_test_probabilities, axis=1)"
      ]
    },
    {
      "cell_type": "code",
      "execution_count": 12,
      "metadata": {
        "id": "y7BMLy-L4ZB5",
        "colab": {
          "base_uri": "https://localhost:8080/"
        },
        "outputId": "0772c196-ae15-4504-a3a4-72beaaa3c234"
      },
      "outputs": [
        {
          "output_type": "stream",
          "name": "stdout",
          "text": [
            "{'0': 0, '1': 1, '2': 2, '3': 3, '4': 4, '5': 5, '6': 6, '7': 7, '8': 8, '9': 9}\n"
          ]
        }
      ],
      "source": [
        "class_names = train_generator.class_indices\n",
        "print(class_names)"
      ]
    },
    {
      "cell_type": "code",
      "execution_count": 13,
      "metadata": {
        "id": "1qOSGi_b4cLr",
        "colab": {
          "base_uri": "https://localhost:8080/"
        },
        "outputId": "6e495647-89fb-4c19-d4e5-5bccbeeab6e0"
      },
      "outputs": [
        {
          "output_type": "stream",
          "name": "stdout",
          "text": [
            "              precision    recall  f1-score   support\n",
            "\n",
            "           0       1.00      1.00      1.00        10\n",
            "           1       1.00      0.70      0.82        10\n",
            "           2       0.70      0.70      0.70        10\n",
            "           3       0.75      0.90      0.82        10\n",
            "           4       1.00      0.90      0.95        10\n",
            "           5       1.00      1.00      1.00        10\n",
            "           6       1.00      1.00      1.00        10\n",
            "           7       1.00      1.00      1.00        10\n",
            "           8       0.90      0.90      0.90        10\n",
            "           9       0.83      1.00      0.91        10\n",
            "\n",
            "    accuracy                           0.91       100\n",
            "   macro avg       0.92      0.91      0.91       100\n",
            "weighted avg       0.92      0.91      0.91       100\n",
            "\n"
          ]
        }
      ],
      "source": [
        "from sklearn.metrics import classification_report\n",
        "print(classification_report(y_true, y_pred))"
      ]
    },
    {
      "cell_type": "code",
      "execution_count": 20,
      "metadata": {
        "id": "0dThs5qR4g_z",
        "colab": {
          "base_uri": "https://localhost:8080/",
          "height": 465
        },
        "outputId": "c5341649-581e-470e-97b0-f5d9030db29d"
      },
      "outputs": [
        {
          "output_type": "display_data",
          "data": {
            "text/plain": [
              "<Figure size 500x500 with 1 Axes>"
            ],
            "image/png": "[encoded data removed]"
          },
          "metadata": {}
        }
      ],
      "source": [
        "from sklearn.metrics import confusion_matrix\n",
        "import matplotlib.pyplot as plt\n",
        "from mlxtend.plotting import plot_confusion_matrix\n",
        "\n",
        "# Assuming y_true and y_pred are defined\n",
        "CM = confusion_matrix(y_true, y_pred)\n",
        "fig, ax = plot_confusion_matrix(conf_mat=CM, figsize=(5, 5))\n",
        "plt.show()"
      ]
    },
    {
      "cell_type": "code",
      "execution_count": null,
      "metadata": {
        "id": "LGTGJ2AF4oOu"
      },
      "outputs": [],
      "source": [
        "# Save the entire model to a HDF5 file.\n",
        "# The '.h5' extension indicates that the model should be saved to HDF5.\n",
        "model.save('digit_recongniser.h5')"
      ]
    }
  ],
  "metadata": {
    "colab": {
      "provenance": []
    },
    "kernelspec": {
      "display_name": "Python 3",
      "name": "python3"
    },
    "language_info": {
      "name": "python"
    }
  },
  "nbformat": 4,
  "nbformat_minor": 0
}